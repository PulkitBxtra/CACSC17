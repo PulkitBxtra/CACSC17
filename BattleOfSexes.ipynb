{
 "cells": [
  {
   "cell_type": "code",
   "execution_count": 10,
   "metadata": {},
   "outputs": [],
   "source": [
    "import numpy as np\n",
    "import nashpy as nash"
   ]
  },
  {
   "cell_type": "code",
   "execution_count": 11,
   "metadata": {},
   "outputs": [],
   "source": [
    "boy_payoffs = np.array([[10, 0], [0, 5]])\n",
    "girl_payoffs = np.array([[5, 0], [0, 10]])"
   ]
  },
  {
   "cell_type": "code",
   "execution_count": 12,
   "metadata": {},
   "outputs": [],
   "source": [
    "battle_of_sexes_game = nash.Game(boy_payoffs, girl_payoffs)"
   ]
  },
  {
   "cell_type": "code",
   "execution_count": 14,
   "metadata": {},
   "outputs": [],
   "source": [
    "equilibria = battle_of_sexes_game.support_enumeration()\n"
   ]
  },
  {
   "cell_type": "code",
   "execution_count": 15,
   "metadata": {},
   "outputs": [
    {
     "name": "stdout",
     "output_type": "stream",
     "text": [
      "Nash Equilibrium:\n",
      "Boy's strategy: [1. 0.]\n",
      "Girl's strategy: [1. 0.]\n",
      "Boy's payoff: 10.0\n",
      "Girl's payoff: 5.0\n",
      "====================\n",
      "Nash Equilibrium:\n",
      "Boy's strategy: [0. 1.]\n",
      "Girl's strategy: [0. 1.]\n",
      "Boy's payoff: 5.0\n",
      "Girl's payoff: 10.0\n",
      "====================\n",
      "Nash Equilibrium:\n",
      "Boy's strategy: [0.66666667 0.33333333]\n",
      "Girl's strategy: [0.33333333 0.66666667]\n",
      "Boy's payoff: 3.333333333333333\n",
      "Girl's payoff: 3.333333333333333\n",
      "====================\n"
     ]
    }
   ],
   "source": [
    "for eq in equilibria:\n",
    "    print(\"Nash Equilibrium:\")\n",
    "    print(\"Boy's strategy:\", eq[0])\n",
    "    print(\"Girl's strategy:\", eq[1])\n",
    "    boy_payoff = np.dot(eq[0], np.dot(boy_payoffs, eq[1]))\n",
    "    girl_payoff = np.dot(eq[0], np.dot(girl_payoffs, eq[1]))\n",
    "    print(\"Boy's payoff:\", boy_payoff)\n",
    "    print(\"Girl's payoff:\", girl_payoff)\n",
    "    print(\"=\" * 20)"
   ]
  },
  {
   "cell_type": "code",
   "execution_count": null,
   "metadata": {},
   "outputs": [],
   "source": []
  }
 ],
 "metadata": {
  "kernelspec": {
   "display_name": "Python 3",
   "language": "python",
   "name": "python3"
  },
  "language_info": {
   "codemirror_mode": {
    "name": "ipython",
    "version": 3
   },
   "file_extension": ".py",
   "mimetype": "text/x-python",
   "name": "python",
   "nbconvert_exporter": "python",
   "pygments_lexer": "ipython3",
   "version": "3.11.5"
  },
  "orig_nbformat": 4
 },
 "nbformat": 4,
 "nbformat_minor": 2
}
