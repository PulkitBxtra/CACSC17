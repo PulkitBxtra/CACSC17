{
 "cells": [
  {
   "cell_type": "code",
   "execution_count": 1,
   "id": "a9bd9f71",
   "metadata": {},
   "outputs": [],
   "source": []
  },
  {
   "cell_type": "code",
   "execution_count": 4,
   "id": "8b3a5d1f",
   "metadata": {},
   "outputs": [
    {
     "data": {
      "text/plain": [
       "Bi matrix game with payoff matrices:\n",
       "\n",
       "Row player:\n",
       "[[10  0]\n",
       " [ 0  5]]\n",
       "\n",
       "Column player:\n",
       "[[ 5  0]\n",
       " [ 0 10]]"
      ]
     },
     "execution_count": 4,
     "metadata": {},
     "output_type": "execute_result"
    }
   ],
   "source": [
    "import nashpy as nash\n",
    "import numpy as np\n",
    "\n",
    "# Payoff matrix for Player 1 (Row player)\n",
    "A = np.array([[10, 0], [0, 5]])\n",
    "B = np.array([[5, 0], [0, 10]])\n",
    "BOS = nash.Game(A, B)\n",
    "BOS\n"
   ]
  },
  {
   "cell_type": "code",
   "execution_count": 5,
   "id": "67675710",
   "metadata": {},
   "outputs": [
    {
     "name": "stdout",
     "output_type": "stream",
     "text": [
      "Nash Equilibrium:\n",
      "Player 1 strategy: [1. 0.]\n",
      "Player 2 strategy: [1. 0.]\n",
      "Payoffs:\n",
      "Player 1 payoff: 10.0\n",
      "Player 2 payoff: 5.0\n",
      "-------\n",
      "Nash Equilibrium:\n",
      "Player 1 strategy: [0. 1.]\n",
      "Player 2 strategy: [0. 1.]\n",
      "Payoffs:\n",
      "Player 1 payoff: 5.0\n",
      "Player 2 payoff: 10.0\n",
      "-------\n",
      "Nash Equilibrium:\n",
      "Player 1 strategy: [0.66666667 0.33333333]\n",
      "Player 2 strategy: [0.33333333 0.66666667]\n",
      "Payoffs:\n",
      "Player 1 payoff: 3.333333333333333\n",
      "Player 2 payoff: 3.333333333333333\n",
      "-------\n"
     ]
    }
   ],
   "source": [
    "equilibria = BOS.support_enumeration()\n",
    "nash_equilibria = list(equilibria)\n",
    "\n",
    "for eq in nash_equilibria:\n",
    "    print(\"Nash Equilibrium:\")\n",
    "    print(f\"Player 1 strategy: {eq[0]}\")\n",
    "    print(f\"Player 2 strategy: {eq[1]}\")\n",
    "    print(\"Payoffs:\")\n",
    "    print(f\"Player 1 payoff: {np.dot(eq[0], np.dot(A, eq[1]))}\")\n",
    "    print(f\"Player 2 payoff: {np.dot(eq[1], np.dot(B, eq[0]))}\")\n",
    "    print(\"-------\")"
   ]
  },
  {
   "cell_type": "code",
   "execution_count": null,
   "id": "09bc0ee3",
   "metadata": {},
   "outputs": [],
   "source": []
  },
  {
   "cell_type": "code",
   "execution_count": null,
   "id": "566e9b3f",
   "metadata": {},
   "outputs": [],
   "source": []
  },
  {
   "cell_type": "code",
   "execution_count": null,
   "id": "7c1a3b09",
   "metadata": {},
   "outputs": [],
   "source": []
  },
  {
   "cell_type": "code",
   "execution_count": null,
   "id": "4a212728",
   "metadata": {},
   "outputs": [],
   "source": []
  }
 ],
 "metadata": {
  "kernelspec": {
   "display_name": "Python 3 (ipykernel)",
   "language": "python",
   "name": "python3"
  },
  "language_info": {
   "codemirror_mode": {
    "name": "ipython",
    "version": 3
   },
   "file_extension": ".py",
   "mimetype": "text/x-python",
   "name": "python",
   "nbconvert_exporter": "python",
   "pygments_lexer": "ipython3",
   "version": "3.11.4"
  }
 },
 "nbformat": 4,
 "nbformat_minor": 5
}
